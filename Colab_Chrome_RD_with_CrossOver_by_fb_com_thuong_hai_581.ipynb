{
  "nbformat": 4,
  "nbformat_minor": 0,
  "metadata": {
    "colab": {
      "name": "pc",
      "provenance": [],
      "collapsed_sections": [],
      "include_colab_link": true
    },
    "kernelspec": {
      "name": "python3",
      "display_name": "Python 3"
    }
  },
  "cells": [
    {
      "cell_type": "markdown",
      "metadata": {
        "id": "view-in-github",
        "colab_type": "text"
      },
      "source": [
        "<a href=\"https://colab.research.google.com/github/Vecto07/notebook/blob/main/Colab_Chrome_RD_with_CrossOver_by_fb_com_thuong_hai_581.ipynb\" target=\"_parent\"><img src=\"https://colab.research.google.com/assets/colab-badge.svg\" alt=\"Open In Colab\"/></a>"
      ]
    },
    {
      "cell_type": "markdown",
      "metadata": {
        "id": "WiCtBFIJAkwd"
      },
      "source": [
        "Colab RDP : Remote Desktop to Colab Instance use Google Remote Desktop \n",
        "\n",
        "     Warning : IF U USE IT TO MINNING U WILL GET BANNED. \n",
        " **User Password is root**\n",
        "\n",
        " **It can take up to 4-5 min for installation**\n",
        " + XFCE4 Desktop Environment\n",
        " + CrossOver (Run Windows Appication)\n",
        "\n",
        " **How to use CrossOver: Launch Terminal, type sudo su, type password root, drag Crossover  into Terminal and enter (CrossOver need sudo permission to run)* \n",
        " + Chrome and Other tools\n",
        " + Obs-studio (Live-streaming)\n",
        " + VLC Media Player\n",
        "\n",
        "Google Colab can give you Instance with 12GB of RAM and GPU for 12 hours (Max.). Anyone can use it to perform Heavy Tasks\n",
        "\n"
      ]
    },
    {
      "cell_type": "markdown",
      "metadata": {
        "id": "RtoY5SKzwTA7"
      },
      "source": [
        "For GPU: By default colab running without GPU, to enable go to Runtime and change runtime to GPU. I test Steam PC version using Crossover and try install and play game, run as well."
      ]
    },
    {
      "cell_type": "code",
      "metadata": {
        "colab": {
          "base_uri": "https://localhost:8080/"
        },
        "id": "t7F_iIOpAnTl",
        "cellView": "form",
        "outputId": "8b6dff84-714a-4639-9ac7-dd77fdedfaa0"
      },
      "source": [
        "#@title **LINK UPDATED! Feel free to  use ! First:**\n",
        "#@markdown Play it and wait until finished!\n",
        "! wget https://raw.githubusercontent.com/ThuongHai/thuonghai/master/CRD_COLAB_EXE.sh &> /dev/null\n",
        "! chmod +x CRD_COLAB_EXE.sh\n",
        "! ./CRD_COLAB_EXE.sh\n",
        "! sleep 43200"
      ],
      "execution_count": null,
      "outputs": [
        {
          "output_type": "stream",
          
            "\u001b[0m\u001b[0m\n",
            "\n",
            "user created \u001b[0m\u001b[0m\n",
            "Adding user `user' to group `sudo' ...\n",
            "Adding user user to group sudo\n",
            "Done.\n",
            "\n",
            "\n",
            "\u001b[32m\u001b[1m    Installer Loaded \u001b[0m\u001b[0m\n",
            "\n",
            "\u001b[36m\u001b[1m    Chrome Remote Desktop Installed \u001b[0m\u001b[0m\n",
            "\u001b[36m\u001b[1m    Desktop Environment Installed \u001b[0m\u001b[0m\n",
            "\u001b[36m\u001b[1m    Google Chrome Installed \u001b[0m\u001b[0m\n",
            "\u001b[36m\u001b[1m    CrossOver Installed \u001b[0m\u001b[0m\n",
            "\u001b[36m\u001b[1m    OBS-Studio Installed \u001b[0m\u001b[0m\n",
            "\u001b[36m\u001b[1m    VLC Media Player Installed \u001b[0m\u001b[0m\n",
            "\u001b[36m\u001b[1m    Other Tools Installed \u001b[0m\u001b[0m\n",
            "\n",
            "\u001b[32m\u001b[1m    Installation Completed \u001b[0m\u001b[0m\n",
            "\n",
            "Adding user `user' to group `chrome-remote-desktop' ...\n",
            "Adding user user to group chrome-remote-desktop\n",
            "Done.\n",
            "\n",
            "Visit http://remotedesktop.google.com/headless and Copy the command after authentication\n",
            "Paste Command: DISPLAY= /opt/google/chrome-remote-desktop/start-host --code=\"4/0AY0e-g5lUjWy_Kk8f-pto2aaLqKu7XkCfYpnt4U7UwGDqlqBP5guYLHwxytJhhuQcjGWaw\" --redirect-url=\"https://remotedesktop.google.com/_/oauthredirect\" --name=$(hostname)\n",
            "Enter a PIN of at least six digits: \n",
            "Please use a PIN consisting of at least six digits.\n",
            "Enter a PIN of at least six digits: \n",
            "Enter the same PIN again: \n",
            "[0128/073328.988037:ERROR:cert_verify_proc_builtin.cc(559)] No net_fetcher for performing AIA chasing.\n",
            "[0128/073329.042507:WARNING:host_config.cc(54)] Failed to read /home/user/.config/chrome-remote-desktop/host#990fd18b9142d9588fff4dfd62194b75.json\n",
            "[0128/073329.201527:ERROR:cert_verify_proc_builtin.cc(559)] No net_fetcher for performing AIA chasing.\n",
            "[0128/073329.781126:INFO:daemon_controller_delegate_linux.cc(99)] 2021-01-28 07:33:29,767:INFO:User 'user' is already a member of 'chrome-remote-desktop'.\n",
            "\n",
            "[0128/073331.675371:INFO:daemon_controller_delegate_linux.cc(99)] [0128/073329.907495:INFO:remoting_user_session.cc(754)] Daemon process started in the background, logging to '/tmp/chrome_remote_desktop_20210128_073329_lw6hNz'\n",
            "Using host_id: 8152fd6e-ca4c-4e34-a24d-02b8f9ee16b3\n",
            "Launching X server and X session.\n",
            "Starting Xvfb on display :20\n",
            "X server is active.\n",
            "Launching X session: ['/bin/sh', '/etc/chrome-remote-desktop-session']\n",
            "Launching host process\n",
            "['/opt/google/chrome-remote-desktop/chrome-remote-desktop-host', '--host-config=-', '--audio-pipe-name=/home/user/.config/chrome-remote-desktop/pulseaudio#990fd18b91/fifo_output', '--server-supports-exact-resize', '--ssh-auth-sockname=/tmp/chromoting.user.ssh_auth_sock', '--signal-parent']\n",
            "Host ready to receive connections.\n",
            "Log file: /tmp/chrome_remote_desktop_20210128_073329_lw6hNz\n",
            "\n",
            "\n",
            "\u001b[36m\u001b[1m I hope everthing done correctly if mistakenly wrote wrong command or pin, Rerun the current box or run command 'su - user -c '<CRP Command Here>' \u001b[0m\u001b[0m\n",
            "\n",
            "\u001b[36m\u001b[1m https://remotedesktop.google.com/access to access your VM, do not close browser tab to keep colab running ' \u001b[0m\u001b[0m\n",
            "\n",
            "\u001b[32m\u001b[1m Finished Succesfully\u001b[0m\u001b[0m"
          ],
          "name": "stdout"
        }
      ]
    },
    {
      "cell_type": "code",
      "metadata": {
        "cellView": "form",
        "id": "JLHA-zydc-gV"
      },
      "source": [
        "#@title **SECOND (Optional):**\r\n",
        "#@markdown Anti shutdown colab (play and keep this colab tab open):\r\n",
        "! sleep 43200"
      ],
      "execution_count": null,
      "outputs": []
    }
  ]
}
